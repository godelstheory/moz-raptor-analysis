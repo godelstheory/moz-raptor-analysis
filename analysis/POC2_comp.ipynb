{
  "nbformat": 4,
  "nbformat_minor": 0,
  "metadata": {
    "colab": {
      "name": "POC2_comp.ipynb",
      "version": "0.3.2",
      "provenance": [],
      "include_colab_link": true
    },
    "kernelspec": {
      "name": "python3",
      "display_name": "Python 3"
    }
  },
  "cells": [
    {
      "cell_type": "markdown",
      "metadata": {
        "id": "view-in-github",
        "colab_type": "text"
      },
      "source": [
        "<a href=\"https://colab.research.google.com/github/godelstheory/moz-raptor-analysis/blob/master/analysis/POC2_comp.ipynb\" target=\"_parent\"><img src=\"https://colab.research.google.com/assets/colab-badge.svg\" alt=\"Open In Colab\"/></a>"
      ]
    },
    {
      "cell_type": "code",
      "metadata": {
        "id": "FjM-K9CGaIQL",
        "colab_type": "code",
        "outputId": "e07c248b-30e2-4058-c9f1-fb9019b29e57",
        "colab": {
          "base_uri": "https://localhost:8080/",
          "height": 34
        }
      },
      "source": [
        "from google.colab import auth\n",
        "auth.authenticate_user()\n",
        "print('Authenticated')"
      ],
      "execution_count": 0,
      "outputs": [
        {
          "output_type": "stream",
          "text": [
            "Authenticated\n"
          ],
          "name": "stdout"
        }
      ]
    },
    {
      "cell_type": "code",
      "metadata": {
        "id": "FB-jGj47aV68",
        "colab_type": "code",
        "colab": {}
      },
      "source": [
        "project_id = 'moz-fx-data-bq-data-science'"
      ],
      "execution_count": 0,
      "outputs": []
    },
    {
      "cell_type": "markdown",
      "metadata": {
        "id": "-JeGyp2iaGR-",
        "colab_type": "text"
      },
      "source": [
        ""
      ]
    },
    {
      "cell_type": "code",
      "metadata": {
        "id": "aBXtI5xkax-B",
        "colab_type": "code",
        "outputId": "dbe23090-0c07-4167-9759-591616203e0b",
        "colab": {
          "base_uri": "https://localhost:8080/",
          "height": 54
        }
      },
      "source": [
        "from google.cloud import bigquery\n",
        "\n",
        "client = bigquery.Client(project=project_id)\n",
        "\n",
        "\n",
        "# df = client.query('''\n",
        "#   select time_scheduled, origin_revision\n",
        "# from `trink-sandbox.ci_timing.poc2`\n",
        "# where origin_project = 'mozilla-central'\n",
        "# limit 1000000\n",
        "# ''').to_dataframe()\n",
        "\n",
        "df = client.query('''\n",
        "  select origin_revision, min(time_scheduled) as td_min, \n",
        "    max(time_scheduled) as td_max\n",
        "  from `trink-sandbox.ci_timing.poc2`\n",
        "  where origin_project = 'mozilla-central'\n",
        "  GROUP BY 1\n",
        "  limit 100\n",
        "''').to_dataframe()"
      ],
      "execution_count": 0,
      "outputs": [
        {
          "output_type": "stream",
          "text": [
            "WARNING:google.auth._default:No project ID could be determined. Consider running `gcloud config set project` or setting the GOOGLE_CLOUD_PROJECT environment variable\n"
          ],
          "name": "stderr"
        }
      ]
    },
    {
      "cell_type": "code",
      "metadata": {
        "id": "qv4b8TJNbCTL",
        "colab_type": "code",
        "outputId": "a5e5740c-2fc3-4978-b40b-51aaeb2bec33",
        "colab": {
          "base_uri": "https://localhost:8080/",
          "height": 34
        }
      },
      "source": [
        "df.shape"
      ],
      "execution_count": 0,
      "outputs": [
        {
          "output_type": "execute_result",
          "data": {
            "text/plain": [
              "(51, 3)"
            ]
          },
          "metadata": {
            "tags": []
          },
          "execution_count": 110
        }
      ]
    },
    {
      "cell_type": "code",
      "metadata": {
        "id": "Z3zyl3I9roS1",
        "colab_type": "code",
        "outputId": "1082c616-06a4-4a49-cf42-54d1faa76f1c",
        "colab": {
          "base_uri": "https://localhost:8080/",
          "height": 293
        }
      },
      "source": [
        "df.head()"
      ],
      "execution_count": 0,
      "outputs": [
        {
          "output_type": "execute_result",
          "data": {
            "text/html": [
              "<div>\n",
              "<style scoped>\n",
              "    .dataframe tbody tr th:only-of-type {\n",
              "        vertical-align: middle;\n",
              "    }\n",
              "\n",
              "    .dataframe tbody tr th {\n",
              "        vertical-align: top;\n",
              "    }\n",
              "\n",
              "    .dataframe thead th {\n",
              "        text-align: right;\n",
              "    }\n",
              "</style>\n",
              "<table border=\"1\" class=\"dataframe\">\n",
              "  <thead>\n",
              "    <tr style=\"text-align: right;\">\n",
              "      <th></th>\n",
              "      <th>origin_revision</th>\n",
              "      <th>td_min</th>\n",
              "      <th>td_max</th>\n",
              "    </tr>\n",
              "  </thead>\n",
              "  <tbody>\n",
              "    <tr>\n",
              "      <th>0</th>\n",
              "      <td>5a63f841eacb1632a595c30bfb3d81636a2cde8d</td>\n",
              "      <td>2019-05-23 15:55:39.791000+00:00</td>\n",
              "      <td>2019-05-26 16:41:21.797000+00:00</td>\n",
              "    </tr>\n",
              "    <tr>\n",
              "      <th>1</th>\n",
              "      <td>4a74609752d2e77e4be401e92978c9c32a842b40</td>\n",
              "      <td>2019-05-19 21:37:59.895000+00:00</td>\n",
              "      <td>2019-05-20 06:47:04.416000+00:00</td>\n",
              "    </tr>\n",
              "    <tr>\n",
              "      <th>2</th>\n",
              "      <td>893e1d6cad95e3e7ffdb3d0daf4a26fcea4a68bd</td>\n",
              "      <td>2019-05-26 16:22:50.420000+00:00</td>\n",
              "      <td>2019-05-26 21:10:15.334000+00:00</td>\n",
              "    </tr>\n",
              "    <tr>\n",
              "      <th>3</th>\n",
              "      <td>d8321d0b2c5b43933c5e9f201934ec7d4c3a65c0</td>\n",
              "      <td>2019-05-28 17:28:38.606000+00:00</td>\n",
              "      <td>2019-05-28 22:36:05.763000+00:00</td>\n",
              "    </tr>\n",
              "    <tr>\n",
              "      <th>4</th>\n",
              "      <td>840b7106d8ae3158aeba8268d2ac0b40c3682bcb</td>\n",
              "      <td>2019-05-23 04:42:26.182000+00:00</td>\n",
              "      <td>2019-05-26 16:41:43.147000+00:00</td>\n",
              "    </tr>\n",
              "  </tbody>\n",
              "</table>\n",
              "</div>"
            ],
            "text/plain": [
              "                            origin_revision  ...                           td_max\n",
              "0  5a63f841eacb1632a595c30bfb3d81636a2cde8d  ... 2019-05-26 16:41:21.797000+00:00\n",
              "1  4a74609752d2e77e4be401e92978c9c32a842b40  ... 2019-05-20 06:47:04.416000+00:00\n",
              "2  893e1d6cad95e3e7ffdb3d0daf4a26fcea4a68bd  ... 2019-05-26 21:10:15.334000+00:00\n",
              "3  d8321d0b2c5b43933c5e9f201934ec7d4c3a65c0  ... 2019-05-28 22:36:05.763000+00:00\n",
              "4  840b7106d8ae3158aeba8268d2ac0b40c3682bcb  ... 2019-05-26 16:41:43.147000+00:00\n",
              "\n",
              "[5 rows x 3 columns]"
            ]
          },
          "metadata": {
            "tags": []
          },
          "execution_count": 111
        }
      ]
    },
    {
      "cell_type": "code",
      "metadata": {
        "id": "jBSG4NWGbJWY",
        "colab_type": "code",
        "colab": {}
      },
      "source": [
        "# df.time_scheduled.nunique()"
      ],
      "execution_count": 0,
      "outputs": []
    },
    {
      "cell_type": "code",
      "metadata": {
        "id": "ONsEAzIibbQ1",
        "colab_type": "code",
        "outputId": "be12062b-7c08-4be4-c633-2fcd19aec027",
        "colab": {
          "base_uri": "https://localhost:8080/",
          "height": 34
        }
      },
      "source": [
        "df.origin_revision.nunique()"
      ],
      "execution_count": 0,
      "outputs": [
        {
          "output_type": "execute_result",
          "data": {
            "text/plain": [
              "51"
            ]
          },
          "metadata": {
            "tags": []
          },
          "execution_count": 107
        }
      ]
    },
    {
      "cell_type": "code",
      "metadata": {
        "id": "r2kPefHcgpsF",
        "colab_type": "code",
        "colab": {}
      },
      "source": [
        "import requests\n",
        "\n",
        "revision_url = 'https://treeherder.mozilla.org/api/project/mozilla-central/push/?revision={}'\n",
        "headers = {'User-Agent': 'CoreyDowHygelundTalos/1.0'}\n",
        "\n",
        "def get_push_timestamp(x):\n",
        "  req = requests.get(revision_url.format(x), headers=headers)\n",
        "  req_json = json.loads(req.text)\n",
        "  return req_json['results'][0]['push_timestamp']"
      ],
      "execution_count": 0,
      "outputs": []
    },
    {
      "cell_type": "code",
      "metadata": {
        "id": "OyTy_54WgxAm",
        "colab_type": "code",
        "colab": {}
      },
      "source": [
        "push_timestamps = {x: get_push_timestamp(x) for x in df.origin_revision.unique()}"
      ],
      "execution_count": 0,
      "outputs": []
    },
    {
      "cell_type": "code",
      "metadata": {
        "id": "vemc301zhPOv",
        "colab_type": "code",
        "outputId": "9afedf17-371c-4128-9e63-fd82fd96e02f",
        "colab": {
          "base_uri": "https://localhost:8080/",
          "height": 712
        }
      },
      "source": [
        "push_timestamps"
      ],
      "execution_count": 0,
      "outputs": [
        {
          "output_type": "execute_result",
          "data": {
            "text/plain": [
              "{'0ee76c4d554c86d4af28f4cc92d2a19666970336': 1558905173,\n",
              " '199eaff06ecd465e8cae54496369d147edb48f3e': 1558626735,\n",
              " '1ae707852b608ea77dc82c892f25e169cbc316b5': 1558129393,\n",
              " '257f2c96cef502a1d674df56c8e39d76d8ed4d89': 1558475152,\n",
              " '267ddc3595fe2147c72e97e97cdd25f3a7519fa9': 1558496458,\n",
              " '29bdbbe89264b91d1bd4205c45536c9222a8d6ee': 1558389328,\n",
              " '29c76bc4b5901f6fd331435e6db5ff47bcde04bb': 1558993992,\n",
              " '3afbce493ca6c90a252c2825b23486974087b352': 1558110850,\n",
              " '3c0f78074b727fbae112b6eda111d4c4d30cc3ec': 1558456225,\n",
              " '5a63f841eacb1632a595c30bfb3d81636a2cde8d': 1558626911,\n",
              " '5cc220ddf028de011a922042ee9ba691b94d055d': 1559038400,\n",
              " '5d3e1ea7769357bce7297b83be3863034bcf656e': 1558734599,\n",
              " '5f95b3f2ea44723ba6a8c41a4b27c88032df709f': 1558517666,\n",
              " '7c540586aedbc69e75649ab34fbaaceee912bebd': 1558129261,\n",
              " '8388f1163e54676201327b95dcb1da7b2f920b39': 1558863297,\n",
              " '840b7106d8ae3158aeba8268d2ac0b40c3682bcb': 1558586519,\n",
              " '893e1d6cad95e3e7ffdb3d0daf4a26fcea4a68bd': 1558887743,\n",
              " '8e80b2082da53556d32efa82121b2391899ab543': 1558950881,\n",
              " '900ff508219cddc29c6f6307c65f0e90c3422c24': 1559036464,\n",
              " '944c410b7e9185a0cb90a4fbc0970299f1ff3e2b': 1558966716,\n",
              " '9617ee5d9b886a899730077b207655222d27867a': 1558516221,\n",
              " '9a89e2b0fa9d7e6393deb47452e3954d4c5adf66': 1558647372,\n",
              " 'a5f7f53421ebce84b0dd4cb3535b49906fdf78ef': 1558538701,\n",
              " 'aaae630f30291056f4f40bbd9e12a917309e401e': 1558538901,\n",
              " 'ac95bdf3c0b3f6f0bb31bb49e7714ca93a5a9c9a': 1558734441,\n",
              " 'af54b2de7028db03f42207598f7a0b4ba81e262f': 1558777153,\n",
              " 'b223e35b6540089f2f9e7db8902f12cf85bb9c16': 1558905262,\n",
              " 'bc17771ceb28c31cd06889be51ae2eda72efc451': 1558110540,\n",
              " 'c3f75e0814271535427e68195ccdabe61d3c95dc': 1559079887,\n",
              " 'c63967f172ee0d2c6624fdce772599efe87836ac': 1558863148,\n",
              " 'c6a17846e2d2ff62c36b879dbfa234dad0d02565': 1559036280,\n",
              " 'c87317c4190283cc4352331417babef3d3f9546d': 1558670005,\n",
              " 'c94c54aff4669f52cebc76ddad34a76f4fafd03b': 1558110278,\n",
              " 'ca560ff55451aafb3dae3f679d09206b120b38eb': 1558412380,\n",
              " 'd12917561f27e4c4b4808707b55e88973dc4a385': 1558586266,\n",
              " 'd551d37b9ad0dd1c8ad2e87c74344f623fc4b694': 1558648323,\n",
              " 'd8321d0b2c5b43933c5e9f201934ec7d4c3a65c0': 1559064501,\n",
              " 'dbc8659c51ebde4c5916b3c169bd097fed33f1c9': 1559080121,\n",
              " 'edbf8267dd4f5a786ae660ff9e2fe890cf74c48e': 1558820320,\n",
              " 'f58ae8ec64c812739509de09659327bf7ea33494': 1558691617}"
            ]
          },
          "metadata": {
            "tags": []
          },
          "execution_count": 87
        }
      ]
    },
    {
      "cell_type": "code",
      "metadata": {
        "id": "kOS3sisgoyx1",
        "colab_type": "code",
        "colab": {}
      },
      "source": [
        "df['ts_min'] = df['td_min'].astype('int64')//1e9\n",
        "df['ts_max'] = df['td_max'].astype('int64')//1e9"
      ],
      "execution_count": 0,
      "outputs": []
    },
    {
      "cell_type": "code",
      "metadata": {
        "id": "NK--QppKjH4a",
        "colab_type": "code",
        "colab": {}
      },
      "source": [
        "import pandas as pd\n",
        "\n",
        "# def get_vals(x):\n",
        "#   ts_min = x.timestamp_scheduled.min()\n",
        "#   ts_max = x.timestamp_scheduled.max()\n",
        "#   ts_push = push_timestamps[x.origin_revision.iloc[0]]\n",
        "#   ts_min_delta = ts_min-ts_push\n",
        "#   ts_max_delta = ts_max-ts_push\n",
        "#   return pd.Series({'min': ts_min, 'max': ts_max, 'push': ts_push, \n",
        "#                     'delta_min': ts_min_delta/60, 'delta_max': ts_max_delta/60})\n",
        "\n",
        "# df.groupby('origin_revision').apply(get_vals)\n",
        "df['push'] = df.origin_revision.apply(lambda x: push_timestamps[x])\n",
        "df['delta_min'] = (df['ts_min'] - df['push'])/60\n",
        "df['delta_max'] = (df['ts_max'] - df['push'])/60"
      ],
      "execution_count": 0,
      "outputs": []
    },
    {
      "cell_type": "code",
      "metadata": {
        "id": "ca-qmsx0t7R5",
        "colab_type": "code",
        "colab": {}
      },
      "source": [
        "df[['origin_revision', 'push', 'delta_min', 'delta_max']].to_csv('revision_task_date_diff.csv')"
      ],
      "execution_count": 0,
      "outputs": []
    },
    {
      "cell_type": "code",
      "metadata": {
        "id": "twD1Ph24vrnn",
        "colab_type": "code",
        "outputId": "ca098a79-4bef-4ca4-c033-da62d1ff1f0e",
        "colab": {
          "base_uri": "https://localhost:8080/",
          "height": 1649
        }
      },
      "source": [
        "df[['origin_revision', 'push', 'delta_min', 'delta_max']]"
      ],
      "execution_count": 0,
      "outputs": [
        {
          "output_type": "execute_result",
          "data": {
            "text/html": [
              "<div>\n",
              "<style scoped>\n",
              "    .dataframe tbody tr th:only-of-type {\n",
              "        vertical-align: middle;\n",
              "    }\n",
              "\n",
              "    .dataframe tbody tr th {\n",
              "        vertical-align: top;\n",
              "    }\n",
              "\n",
              "    .dataframe thead th {\n",
              "        text-align: right;\n",
              "    }\n",
              "</style>\n",
              "<table border=\"1\" class=\"dataframe\">\n",
              "  <thead>\n",
              "    <tr style=\"text-align: right;\">\n",
              "      <th></th>\n",
              "      <th>origin_revision</th>\n",
              "      <th>push</th>\n",
              "      <th>delta_min</th>\n",
              "      <th>delta_max</th>\n",
              "    </tr>\n",
              "  </thead>\n",
              "  <tbody>\n",
              "    <tr>\n",
              "      <th>0</th>\n",
              "      <td>5a63f841eacb1632a595c30bfb3d81636a2cde8d</td>\n",
              "      <td>1558626911</td>\n",
              "      <td>0.466667</td>\n",
              "      <td>4366.166667</td>\n",
              "    </tr>\n",
              "    <tr>\n",
              "      <th>1</th>\n",
              "      <td>4a74609752d2e77e4be401e92978c9c32a842b40</td>\n",
              "      <td>1558301827</td>\n",
              "      <td>0.866667</td>\n",
              "      <td>549.950000</td>\n",
              "    </tr>\n",
              "    <tr>\n",
              "      <th>2</th>\n",
              "      <td>893e1d6cad95e3e7ffdb3d0daf4a26fcea4a68bd</td>\n",
              "      <td>1558887743</td>\n",
              "      <td>0.450000</td>\n",
              "      <td>287.866667</td>\n",
              "    </tr>\n",
              "    <tr>\n",
              "      <th>3</th>\n",
              "      <td>d8321d0b2c5b43933c5e9f201934ec7d4c3a65c0</td>\n",
              "      <td>1559064501</td>\n",
              "      <td>0.283333</td>\n",
              "      <td>307.733333</td>\n",
              "    </tr>\n",
              "    <tr>\n",
              "      <th>4</th>\n",
              "      <td>840b7106d8ae3158aeba8268d2ac0b40c3682bcb</td>\n",
              "      <td>1558586519</td>\n",
              "      <td>0.450000</td>\n",
              "      <td>5039.733333</td>\n",
              "    </tr>\n",
              "    <tr>\n",
              "      <th>5</th>\n",
              "      <td>199eaff06ecd465e8cae54496369d147edb48f3e</td>\n",
              "      <td>1558626735</td>\n",
              "      <td>0.583333</td>\n",
              "      <td>4233.850000</td>\n",
              "    </tr>\n",
              "    <tr>\n",
              "      <th>6</th>\n",
              "      <td>0ee76c4d554c86d4af28f4cc92d2a19666970336</td>\n",
              "      <td>1558905173</td>\n",
              "      <td>2.966667</td>\n",
              "      <td>200.900000</td>\n",
              "    </tr>\n",
              "    <tr>\n",
              "      <th>7</th>\n",
              "      <td>97dae745c1b3ef2292127ba1c4e90b1345c8f576</td>\n",
              "      <td>1558346058</td>\n",
              "      <td>0.500000</td>\n",
              "      <td>306.283333</td>\n",
              "    </tr>\n",
              "    <tr>\n",
              "      <th>8</th>\n",
              "      <td>8388f1163e54676201327b95dcb1da7b2f920b39</td>\n",
              "      <td>1558863297</td>\n",
              "      <td>0.416667</td>\n",
              "      <td>251.550000</td>\n",
              "    </tr>\n",
              "    <tr>\n",
              "      <th>9</th>\n",
              "      <td>9617ee5d9b886a899730077b207655222d27867a</td>\n",
              "      <td>1558516221</td>\n",
              "      <td>0.316667</td>\n",
              "      <td>172.350000</td>\n",
              "    </tr>\n",
              "    <tr>\n",
              "      <th>10</th>\n",
              "      <td>82437bfbc17b5ea4f90839b3c1b67b92e5fee23d</td>\n",
              "      <td>1558175028</td>\n",
              "      <td>0.466667</td>\n",
              "      <td>108.833333</td>\n",
              "    </tr>\n",
              "    <tr>\n",
              "      <th>11</th>\n",
              "      <td>8e80b2082da53556d32efa82121b2391899ab543</td>\n",
              "      <td>1558950881</td>\n",
              "      <td>0.450000</td>\n",
              "      <td>1751.550000</td>\n",
              "    </tr>\n",
              "    <tr>\n",
              "      <th>12</th>\n",
              "      <td>17d1c1e26e31551fd7baf9b3ea80f8f2382385a0</td>\n",
              "      <td>1558345910</td>\n",
              "      <td>0.316667</td>\n",
              "      <td>256.750000</td>\n",
              "    </tr>\n",
              "    <tr>\n",
              "      <th>13</th>\n",
              "      <td>a5f7f53421ebce84b0dd4cb3535b49906fdf78ef</td>\n",
              "      <td>1558538701</td>\n",
              "      <td>0.400000</td>\n",
              "      <td>276.583333</td>\n",
              "    </tr>\n",
              "    <tr>\n",
              "      <th>14</th>\n",
              "      <td>bc17771ceb28c31cd06889be51ae2eda72efc451</td>\n",
              "      <td>1558110540</td>\n",
              "      <td>1.900000</td>\n",
              "      <td>207.633333</td>\n",
              "    </tr>\n",
              "    <tr>\n",
              "      <th>15</th>\n",
              "      <td>944c410b7e9185a0cb90a4fbc0970299f1ff3e2b</td>\n",
              "      <td>1558966716</td>\n",
              "      <td>0.483333</td>\n",
              "      <td>1503.950000</td>\n",
              "    </tr>\n",
              "    <tr>\n",
              "      <th>16</th>\n",
              "      <td>aaae630f30291056f4f40bbd9e12a917309e401e</td>\n",
              "      <td>1558538901</td>\n",
              "      <td>0.483333</td>\n",
              "      <td>435.916667</td>\n",
              "    </tr>\n",
              "    <tr>\n",
              "      <th>17</th>\n",
              "      <td>c3f75e0814271535427e68195ccdabe61d3c95dc</td>\n",
              "      <td>1559079887</td>\n",
              "      <td>0.466667</td>\n",
              "      <td>3.216667</td>\n",
              "    </tr>\n",
              "    <tr>\n",
              "      <th>18</th>\n",
              "      <td>ca560ff55451aafb3dae3f679d09206b120b38eb</td>\n",
              "      <td>1558412380</td>\n",
              "      <td>0.550000</td>\n",
              "      <td>3.033333</td>\n",
              "    </tr>\n",
              "    <tr>\n",
              "      <th>19</th>\n",
              "      <td>9a89e2b0fa9d7e6393deb47452e3954d4c5adf66</td>\n",
              "      <td>1558647372</td>\n",
              "      <td>0.300000</td>\n",
              "      <td>161.300000</td>\n",
              "    </tr>\n",
              "    <tr>\n",
              "      <th>20</th>\n",
              "      <td>c87317c4190283cc4352331417babef3d3f9546d</td>\n",
              "      <td>1558670005</td>\n",
              "      <td>0.433333</td>\n",
              "      <td>3457.500000</td>\n",
              "    </tr>\n",
              "    <tr>\n",
              "      <th>21</th>\n",
              "      <td>c63967f172ee0d2c6624fdce772599efe87836ac</td>\n",
              "      <td>1558863148</td>\n",
              "      <td>0.316667</td>\n",
              "      <td>416.683333</td>\n",
              "    </tr>\n",
              "    <tr>\n",
              "      <th>22</th>\n",
              "      <td>29c76bc4b5901f6fd331435e6db5ff47bcde04bb</td>\n",
              "      <td>1558993992</td>\n",
              "      <td>0.500000</td>\n",
              "      <td>909.816667</td>\n",
              "    </tr>\n",
              "    <tr>\n",
              "      <th>23</th>\n",
              "      <td>c94c54aff4669f52cebc76ddad34a76f4fafd03b</td>\n",
              "      <td>1558110278</td>\n",
              "      <td>2.083333</td>\n",
              "      <td>248.050000</td>\n",
              "    </tr>\n",
              "    <tr>\n",
              "      <th>24</th>\n",
              "      <td>78571bb1f20e643cdab9791f61b0aa7b6a8bdf90</td>\n",
              "      <td>1558453534</td>\n",
              "      <td>0.500000</td>\n",
              "      <td>2.816667</td>\n",
              "    </tr>\n",
              "    <tr>\n",
              "      <th>25</th>\n",
              "      <td>d7a7edbebd6a08f22d78b5c86b2f2d4573eb77dd</td>\n",
              "      <td>1558258126</td>\n",
              "      <td>0.450000</td>\n",
              "      <td>63.416667</td>\n",
              "    </tr>\n",
              "    <tr>\n",
              "      <th>26</th>\n",
              "      <td>edbf8267dd4f5a786ae660ff9e2fe890cf74c48e</td>\n",
              "      <td>1558820320</td>\n",
              "      <td>0.466667</td>\n",
              "      <td>1131.050000</td>\n",
              "    </tr>\n",
              "    <tr>\n",
              "      <th>27</th>\n",
              "      <td>3c0f78074b727fbae112b6eda111d4c4d30cc3ec</td>\n",
              "      <td>1558456225</td>\n",
              "      <td>1.966667</td>\n",
              "      <td>380.483333</td>\n",
              "    </tr>\n",
              "    <tr>\n",
              "      <th>28</th>\n",
              "      <td>1ae707852b608ea77dc82c892f25e169cbc316b5</td>\n",
              "      <td>1558129393</td>\n",
              "      <td>0.450000</td>\n",
              "      <td>740.816667</td>\n",
              "    </tr>\n",
              "    <tr>\n",
              "      <th>29</th>\n",
              "      <td>ac95bdf3c0b3f6f0bb31bb49e7714ca93a5a9c9a</td>\n",
              "      <td>1558734441</td>\n",
              "      <td>0.566667</td>\n",
              "      <td>2559.750000</td>\n",
              "    </tr>\n",
              "    <tr>\n",
              "      <th>30</th>\n",
              "      <td>d12917561f27e4c4b4808707b55e88973dc4a385</td>\n",
              "      <td>1558586266</td>\n",
              "      <td>0.600000</td>\n",
              "      <td>240.700000</td>\n",
              "    </tr>\n",
              "    <tr>\n",
              "      <th>31</th>\n",
              "      <td>5d3e1ea7769357bce7297b83be3863034bcf656e</td>\n",
              "      <td>1558734599</td>\n",
              "      <td>0.683333</td>\n",
              "      <td>2567.000000</td>\n",
              "    </tr>\n",
              "    <tr>\n",
              "      <th>32</th>\n",
              "      <td>e013f1f17109a8c22cbc7abf6f78db55bd2a8efb</td>\n",
              "      <td>1558215920</td>\n",
              "      <td>0.366667</td>\n",
              "      <td>239.083333</td>\n",
              "    </tr>\n",
              "    <tr>\n",
              "      <th>33</th>\n",
              "      <td>5cc220ddf028de011a922042ee9ba691b94d055d</td>\n",
              "      <td>1559038400</td>\n",
              "      <td>0.516667</td>\n",
              "      <td>18.633333</td>\n",
              "    </tr>\n",
              "    <tr>\n",
              "      <th>34</th>\n",
              "      <td>b223e35b6540089f2f9e7db8902f12cf85bb9c16</td>\n",
              "      <td>1558905262</td>\n",
              "      <td>1.466667</td>\n",
              "      <td>2387.050000</td>\n",
              "    </tr>\n",
              "    <tr>\n",
              "      <th>35</th>\n",
              "      <td>7c540586aedbc69e75649ab34fbaaceee912bebd</td>\n",
              "      <td>1558129261</td>\n",
              "      <td>0.450000</td>\n",
              "      <td>189.683333</td>\n",
              "    </tr>\n",
              "    <tr>\n",
              "      <th>36</th>\n",
              "      <td>29bdbbe89264b91d1bd4205c45536c9222a8d6ee</td>\n",
              "      <td>1558389328</td>\n",
              "      <td>0.566667</td>\n",
              "      <td>235.033333</td>\n",
              "    </tr>\n",
              "    <tr>\n",
              "      <th>37</th>\n",
              "      <td>5f95b3f2ea44723ba6a8c41a4b27c88032df709f</td>\n",
              "      <td>1558517666</td>\n",
              "      <td>0.383333</td>\n",
              "      <td>246.466667</td>\n",
              "    </tr>\n",
              "    <tr>\n",
              "      <th>38</th>\n",
              "      <td>257f2c96cef502a1d674df56c8e39d76d8ed4d89</td>\n",
              "      <td>1558475152</td>\n",
              "      <td>0.400000</td>\n",
              "      <td>3012.233333</td>\n",
              "    </tr>\n",
              "    <tr>\n",
              "      <th>39</th>\n",
              "      <td>9b2f851979cb8d0dd0cd2618656eddee32e4f143</td>\n",
              "      <td>1558175159</td>\n",
              "      <td>0.350000</td>\n",
              "      <td>4238.866667</td>\n",
              "    </tr>\n",
              "    <tr>\n",
              "      <th>40</th>\n",
              "      <td>900ff508219cddc29c6f6307c65f0e90c3422c24</td>\n",
              "      <td>1559036464</td>\n",
              "      <td>0.616667</td>\n",
              "      <td>200.750000</td>\n",
              "    </tr>\n",
              "    <tr>\n",
              "      <th>41</th>\n",
              "      <td>af54b2de7028db03f42207598f7a0b4ba81e262f</td>\n",
              "      <td>1558777153</td>\n",
              "      <td>0.633333</td>\n",
              "      <td>1852.116667</td>\n",
              "    </tr>\n",
              "    <tr>\n",
              "      <th>42</th>\n",
              "      <td>319a369ccde4ff1c4842c62fe90e9adf4eb5c028</td>\n",
              "      <td>1558359801</td>\n",
              "      <td>0.450000</td>\n",
              "      <td>173.433333</td>\n",
              "    </tr>\n",
              "    <tr>\n",
              "      <th>43</th>\n",
              "      <td>c6a17846e2d2ff62c36b879dbfa234dad0d02565</td>\n",
              "      <td>1559036280</td>\n",
              "      <td>0.600000</td>\n",
              "      <td>621.150000</td>\n",
              "    </tr>\n",
              "    <tr>\n",
              "      <th>44</th>\n",
              "      <td>b74e5737da64a7af28ab4f81f996950917aa71c5</td>\n",
              "      <td>1558431887</td>\n",
              "      <td>0.483333</td>\n",
              "      <td>103.783333</td>\n",
              "    </tr>\n",
              "    <tr>\n",
              "      <th>45</th>\n",
              "      <td>267ddc3595fe2147c72e97e97cdd25f3a7519fa9</td>\n",
              "      <td>1558496458</td>\n",
              "      <td>0.450000</td>\n",
              "      <td>8165.100000</td>\n",
              "    </tr>\n",
              "    <tr>\n",
              "      <th>46</th>\n",
              "      <td>dbc8659c51ebde4c5916b3c169bd097fed33f1c9</td>\n",
              "      <td>1559080121</td>\n",
              "      <td>0.400000</td>\n",
              "      <td>36.050000</td>\n",
              "    </tr>\n",
              "    <tr>\n",
              "      <th>47</th>\n",
              "      <td>f58ae8ec64c812739509de09659327bf7ea33494</td>\n",
              "      <td>1558691617</td>\n",
              "      <td>0.466667</td>\n",
              "      <td>3273.266667</td>\n",
              "    </tr>\n",
              "    <tr>\n",
              "      <th>48</th>\n",
              "      <td>3afbce493ca6c90a252c2825b23486974087b352</td>\n",
              "      <td>1558110850</td>\n",
              "      <td>1.616667</td>\n",
              "      <td>464.850000</td>\n",
              "    </tr>\n",
              "    <tr>\n",
              "      <th>49</th>\n",
              "      <td>d551d37b9ad0dd1c8ad2e87c74344f623fc4b694</td>\n",
              "      <td>1558648323</td>\n",
              "      <td>0.583333</td>\n",
              "      <td>4007.750000</td>\n",
              "    </tr>\n",
              "    <tr>\n",
              "      <th>50</th>\n",
              "      <td>0a9b9344eb3507714ac3c30485d71bb8387ff3c2</td>\n",
              "      <td>1558358570</td>\n",
              "      <td>0.316667</td>\n",
              "      <td>133.766667</td>\n",
              "    </tr>\n",
              "  </tbody>\n",
              "</table>\n",
              "</div>"
            ],
            "text/plain": [
              "                             origin_revision  ...    delta_max\n",
              "0   5a63f841eacb1632a595c30bfb3d81636a2cde8d  ...  4366.166667\n",
              "1   4a74609752d2e77e4be401e92978c9c32a842b40  ...   549.950000\n",
              "2   893e1d6cad95e3e7ffdb3d0daf4a26fcea4a68bd  ...   287.866667\n",
              "3   d8321d0b2c5b43933c5e9f201934ec7d4c3a65c0  ...   307.733333\n",
              "4   840b7106d8ae3158aeba8268d2ac0b40c3682bcb  ...  5039.733333\n",
              "5   199eaff06ecd465e8cae54496369d147edb48f3e  ...  4233.850000\n",
              "6   0ee76c4d554c86d4af28f4cc92d2a19666970336  ...   200.900000\n",
              "7   97dae745c1b3ef2292127ba1c4e90b1345c8f576  ...   306.283333\n",
              "8   8388f1163e54676201327b95dcb1da7b2f920b39  ...   251.550000\n",
              "9   9617ee5d9b886a899730077b207655222d27867a  ...   172.350000\n",
              "10  82437bfbc17b5ea4f90839b3c1b67b92e5fee23d  ...   108.833333\n",
              "11  8e80b2082da53556d32efa82121b2391899ab543  ...  1751.550000\n",
              "12  17d1c1e26e31551fd7baf9b3ea80f8f2382385a0  ...   256.750000\n",
              "13  a5f7f53421ebce84b0dd4cb3535b49906fdf78ef  ...   276.583333\n",
              "14  bc17771ceb28c31cd06889be51ae2eda72efc451  ...   207.633333\n",
              "15  944c410b7e9185a0cb90a4fbc0970299f1ff3e2b  ...  1503.950000\n",
              "16  aaae630f30291056f4f40bbd9e12a917309e401e  ...   435.916667\n",
              "17  c3f75e0814271535427e68195ccdabe61d3c95dc  ...     3.216667\n",
              "18  ca560ff55451aafb3dae3f679d09206b120b38eb  ...     3.033333\n",
              "19  9a89e2b0fa9d7e6393deb47452e3954d4c5adf66  ...   161.300000\n",
              "20  c87317c4190283cc4352331417babef3d3f9546d  ...  3457.500000\n",
              "21  c63967f172ee0d2c6624fdce772599efe87836ac  ...   416.683333\n",
              "22  29c76bc4b5901f6fd331435e6db5ff47bcde04bb  ...   909.816667\n",
              "23  c94c54aff4669f52cebc76ddad34a76f4fafd03b  ...   248.050000\n",
              "24  78571bb1f20e643cdab9791f61b0aa7b6a8bdf90  ...     2.816667\n",
              "25  d7a7edbebd6a08f22d78b5c86b2f2d4573eb77dd  ...    63.416667\n",
              "26  edbf8267dd4f5a786ae660ff9e2fe890cf74c48e  ...  1131.050000\n",
              "27  3c0f78074b727fbae112b6eda111d4c4d30cc3ec  ...   380.483333\n",
              "28  1ae707852b608ea77dc82c892f25e169cbc316b5  ...   740.816667\n",
              "29  ac95bdf3c0b3f6f0bb31bb49e7714ca93a5a9c9a  ...  2559.750000\n",
              "30  d12917561f27e4c4b4808707b55e88973dc4a385  ...   240.700000\n",
              "31  5d3e1ea7769357bce7297b83be3863034bcf656e  ...  2567.000000\n",
              "32  e013f1f17109a8c22cbc7abf6f78db55bd2a8efb  ...   239.083333\n",
              "33  5cc220ddf028de011a922042ee9ba691b94d055d  ...    18.633333\n",
              "34  b223e35b6540089f2f9e7db8902f12cf85bb9c16  ...  2387.050000\n",
              "35  7c540586aedbc69e75649ab34fbaaceee912bebd  ...   189.683333\n",
              "36  29bdbbe89264b91d1bd4205c45536c9222a8d6ee  ...   235.033333\n",
              "37  5f95b3f2ea44723ba6a8c41a4b27c88032df709f  ...   246.466667\n",
              "38  257f2c96cef502a1d674df56c8e39d76d8ed4d89  ...  3012.233333\n",
              "39  9b2f851979cb8d0dd0cd2618656eddee32e4f143  ...  4238.866667\n",
              "40  900ff508219cddc29c6f6307c65f0e90c3422c24  ...   200.750000\n",
              "41  af54b2de7028db03f42207598f7a0b4ba81e262f  ...  1852.116667\n",
              "42  319a369ccde4ff1c4842c62fe90e9adf4eb5c028  ...   173.433333\n",
              "43  c6a17846e2d2ff62c36b879dbfa234dad0d02565  ...   621.150000\n",
              "44  b74e5737da64a7af28ab4f81f996950917aa71c5  ...   103.783333\n",
              "45  267ddc3595fe2147c72e97e97cdd25f3a7519fa9  ...  8165.100000\n",
              "46  dbc8659c51ebde4c5916b3c169bd097fed33f1c9  ...    36.050000\n",
              "47  f58ae8ec64c812739509de09659327bf7ea33494  ...  3273.266667\n",
              "48  3afbce493ca6c90a252c2825b23486974087b352  ...   464.850000\n",
              "49  d551d37b9ad0dd1c8ad2e87c74344f623fc4b694  ...  4007.750000\n",
              "50  0a9b9344eb3507714ac3c30485d71bb8387ff3c2  ...   133.766667\n",
              "\n",
              "[51 rows x 4 columns]"
            ]
          },
          "metadata": {
            "tags": []
          },
          "execution_count": 134
        }
      ]
    },
    {
      "cell_type": "code",
      "metadata": {
        "id": "0g-0AceHpCms",
        "colab_type": "code",
        "colab": {}
      },
      "source": [
        "from google.colab import files\n",
        "\n",
        "files.download('revision_task_date_diff.csv')"
      ],
      "execution_count": 0,
      "outputs": []
    }
  ]
}